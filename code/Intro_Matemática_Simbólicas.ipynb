{
  "nbformat": 4,
  "nbformat_minor": 0,
  "metadata": {
    "colab": {
      "name": "Intro Matemática  Simbólicas.ipynb",
      "private_outputs": true,
      "provenance": [],
      "collapsed_sections": [],
      "authorship_tag": "ABX9TyNTby4JkR8Izj2NMnnFbU/u",
      "include_colab_link": true
    },
    "kernelspec": {
      "name": "python3",
      "display_name": "Python 3"
    },
    "language_info": {
      "name": "python"
    }
  },
  "cells": [
    {
      "cell_type": "markdown",
      "metadata": {
        "id": "view-in-github",
        "colab_type": "text"
      },
      "source": [
        "<a href=\"https://colab.research.google.com/github/ulises1229/CompII_2022-2/blob/main/code/Intro_Matem%C3%A1tica_Simb%C3%B3licas.ipynb\" target=\"_parent\"><img src=\"https://colab.research.google.com/assets/colab-badge.svg\" alt=\"Open In Colab\"/></a>"
      ]
    },
    {
      "cell_type": "markdown",
      "metadata": {
        "id": "ysHVGVZtBa8D"
      },
      "source": [
        "# 3. Matemáticas Simbólicas\n",
        "+ Álgebra\n",
        "+ Cálculo\n",
        "+ Ecuaciones"
      ]
    },
    {
      "cell_type": "code",
      "metadata": {
        "id": "gGxNunL9Bv0S"
      },
      "source": [
        "# Importar la librería Sympy\n",
        "from sympy import *\n",
        "\n",
        "# importar una variable simbólica (x)\n",
        "from sympy.abc import x\n",
        "\n",
        "# Habilitar impresión avanzada \n",
        "init_printing(use_latex='mathjax')\n",
        "\n",
        "# Lo anterior es equivalente a: \n",
        "x = Symbol('x') \n",
        "\n",
        "# también se puede definir como:\n",
        "x, y = symbols('x y')\n"
      ],
      "execution_count": null,
      "outputs": []
    },
    {
      "cell_type": "markdown",
      "metadata": {
        "id": "zKhqz4COHtZH"
      },
      "source": [
        "#### Operaciones Básicas\n",
        " "
      ]
    },
    {
      "cell_type": "code",
      "metadata": {
        "id": "x8TxNWZ6ENVR"
      },
      "source": [
        "# Definir una expresión simple\n",
        "a = 2*x**2 + y \n",
        "print(a)\n",
        "display(a)\n"
      ],
      "execution_count": null,
      "outputs": []
    },
    {
      "cell_type": "code",
      "metadata": {
        "id": "askGtDUqD4IQ"
      },
      "source": [
        "# Operaciones simples con expresiones\n",
        "display(a + y)\n",
        "display(a**2 )"
      ],
      "execution_count": null,
      "outputs": []
    },
    {
      "cell_type": "code",
      "metadata": {
        "id": "s7UtQmzQEBCH"
      },
      "source": [
        "# Expandir una expresión\n",
        "expand(a**3)"
      ],
      "execution_count": null,
      "outputs": []
    },
    {
      "cell_type": "code",
      "metadata": {
        "id": "chCoYT2nFp7M"
      },
      "source": [
        "# Factorización\n",
        "b = x**3 + 3*x**2 +3*x + 1\n",
        "display(\"Expresión: \", b)\n",
        "display(\"Factorización\",factor(b) )"
      ],
      "execution_count": null,
      "outputs": []
    },
    {
      "cell_type": "code",
      "metadata": {
        "id": "26q2om-8F82h"
      },
      "source": [
        "# Simplificación de expresiones\n",
        "# Definir dos expresiones\n",
        "exp1 = x**2 - y**2\n",
        "exp2 = (x+y)*(x-y)\n",
        "\n",
        "# \n",
        "display(\"Primer expresión: \",exp1)\n",
        "display(\"Segunda expresión: \",exp2)\n",
        "display(\"Simplificación: \", simplify(exp1 - exp2))\n"
      ],
      "execution_count": null,
      "outputs": []
    },
    {
      "cell_type": "markdown",
      "metadata": {
        "id": "EHPDnVszHz--"
      },
      "source": [
        "#### Sustituciones"
      ]
    },
    {
      "cell_type": "code",
      "metadata": {
        "id": "RWOtgB0rH4s4"
      },
      "source": [
        "# Definir una expresión simple y realizar sustituciones\n",
        "import numpy as np\n",
        "\n",
        "expr = x**2\n",
        "\n",
        "x_a = np.arange(1, 101)\n",
        "y_a = np.arange(1, 101)\n",
        "\n",
        "for i in range(len(x_a)):\n",
        "  y_a[i] = expr.subs(x,x_a[i])\n",
        "\n",
        "print(x_a)\n",
        "print(y_a)\n",
        "\n",
        "import matplotlib.pyplot as plt\n",
        "plt.plot(x_a, y_a)\n",
        "plt.show()\n",
        "\n",
        "display(\"Primer substitución x = y\", expr.subs(x, y))\n",
        "display(\"Segunda substitución x = 0\",expr.subs(x, 0))\n",
        "\n",
        "\n",
        "\n"
      ],
      "execution_count": null,
      "outputs": []
    },
    {
      "cell_type": "code",
      "metadata": {
        "id": "-gdFX8R3Img5"
      },
      "source": [
        "# Continuación sustituciones\n",
        "expr = x**y\n",
        "display(\"Expresión original\", expr)\n",
        "expr = expr.subs(y, x**y)\n",
        "display(\"Después de la sustitución\", expr)"
      ],
      "execution_count": null,
      "outputs": []
    },
    {
      "cell_type": "markdown",
      "metadata": {
        "id": "272FCz0fJrbi"
      },
      "source": [
        "#### Funciones trigonométricas\n"
      ]
    },
    {
      "cell_type": "code",
      "metadata": {
        "id": "Lgb5NkuKJ1yc"
      },
      "source": [
        "# Definición de una expresión trig.\n",
        "trigx = sin(2*x) + cos(2*x)\n",
        "\n",
        "# Expansión utilizando identidades\n",
        "display(\"Expansión \", expand_trig(trigx))"
      ],
      "execution_count": null,
      "outputs": []
    },
    {
      "cell_type": "code",
      "metadata": {
        "id": "Ozh4e0e7KaOA"
      },
      "source": [
        "# Simplificación\n",
        "display(\"Simplificación \", trigsimp(cos(x)**2 + sin(x)**2))\n"
      ],
      "execution_count": null,
      "outputs": []
    },
    {
      "cell_type": "markdown",
      "metadata": {
        "id": "04CHqmBbLX1o"
      },
      "source": [
        "\n",
        "#### Symplificación y Evaluación"
      ]
    },
    {
      "cell_type": "code",
      "metadata": {
        "id": "p1g7XZRXLc42"
      },
      "source": [
        "simplify('x**2 + 2*x +4')\n"
      ],
      "execution_count": null,
      "outputs": []
    },
    {
      "cell_type": "code",
      "metadata": {
        "id": "y3MQt_jgMIvv"
      },
      "source": [
        "# Definición de una expresión\n",
        "expr = sqrt(8)\n",
        "\n",
        "# imprimir la expresión\n",
        "display(expr)\n",
        "\n",
        "# Imprimir la evaluación\n",
        "display(expr.evalf())\n",
        "\n",
        "# imprimir pi y hacer su evaluación\n",
        "display(\"Símbolo \", pi)\n",
        "display(\"Evaluación \", pi.evalf(100))"
      ],
      "execution_count": null,
      "outputs": []
    },
    {
      "cell_type": "code",
      "metadata": {
        "id": "JhaiG9ZHI_wu"
      },
      "source": [
        " # Más simplificaciones\n",
        "display(\"\",simplify((x**3 + x**2 -x -1)/(x**2 +2*x +1)))\n",
        "display(\"\",simplify((x**4 - 1)/(x - 1)))\n",
        "display(\"\",simplify((x**4 - 1)/(x**2 - 1)))\n",
        "display(\"\",expand((x+2*y)**3))\n",
        "display(\"\",cancel((x**4 - 1)/(x - 1)))\n",
        "display(\"\",cancel((x**2 + 2* x + 1)/(x**2 - 1)))\n"
      ],
      "execution_count": null,
      "outputs": []
    },
    {
      "cell_type": "code",
      "source": [
        ""
      ],
      "metadata": {
        "id": "X7WNqozNXzzX"
      },
      "execution_count": null,
      "outputs": []
    }
  ]
}