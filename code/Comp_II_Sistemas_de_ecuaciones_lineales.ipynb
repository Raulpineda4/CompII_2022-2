{
  "nbformat": 4,
  "nbformat_minor": 0,
  "metadata": {
    "colab": {
      "name": "Comp II - Sistemas de ecuaciones lineales.ipynb",
      "provenance": [],
      "collapsed_sections": [],
      "authorship_tag": "ABX9TyOY3q3FvCNwGf8zD6RqTK39",
      "include_colab_link": true
    },
    "kernelspec": {
      "name": "python3",
      "display_name": "Python 3"
    },
    "accelerator": "GPU"
  },
  "cells": [
    {
      "cell_type": "markdown",
      "metadata": {
        "id": "view-in-github",
        "colab_type": "text"
      },
      "source": [
        "<a href=\"https://colab.research.google.com/github/ulises1229/ComputacionII-2021-2/blob/main/code/Comp_II_Sistemas_de_ecuaciones_lineales.ipynb\" target=\"_parent\"><img src=\"https://colab.research.google.com/assets/colab-badge.svg\" alt=\"Open In Colab\"/></a>"
      ]
    },
    {
      "cell_type": "markdown",
      "metadata": {
        "id": "uNbRyOEX3O-S"
      },
      "source": [
        "# Computación II - Resolución de sistemas de ecuaciones lineales\n",
        "+ Autor: Ulises  Olivares\n",
        "+ Email: uolivares@unam.mx\n",
        "+ Fecha: 17 febrero de 2021\n"
      ]
    },
    {
      "cell_type": "markdown",
      "metadata": {
        "id": "roRgGiJy5XmG"
      },
      "source": [
        "## 0. *Numpy - Repaso*\n",
        "\n",
        "Demostrar el uso de arreglos unidimensionales y bi-dimensionales utilizando numpy.\n"
      ]
    },
    {
      "cell_type": "code",
      "metadata": {
        "id": "iV2tLujWH1N1",
        "colab": {
          "base_uri": "https://localhost:8080/"
        },
        "outputId": "b3055b41-1c8d-4d8d-e804-9e70bc747b73"
      },
      "source": [
        "# importar librería de numpy \n",
        "import numpy as np\n",
        "\n",
        "# Se Crea un arreglo bi-dimensional\n",
        "a = np.array([[1.0,2,3], \n",
        "              [4,5,6]], \n",
        "             dtype = np.float16)\n",
        "# Imprimir matriz\n",
        "print(a)\n",
        "\n",
        "# IMPRIMIR ELEMENTOS\n",
        "print(\"Dimensiones: \" + str(a.ndim))\n",
        "print(\"Forma: \" + str(a.shape))\n",
        "print(\"Tipo de datos: \" + str(a.dtype))"
      ],
      "execution_count": null,
      "outputs": [
        {
          "output_type": "stream",
          "text": [
            "[[1. 2. 3.]\n",
            " [4. 5. 6.]]\n",
            "Dimensiones: 2\n",
            "Forma: (2, 3)\n",
            "Tipo de datos: float16\n"
          ],
          "name": "stdout"
        }
      ]
    },
    {
      "cell_type": "code",
      "metadata": {
        "id": "kq_pDjfjJWjF",
        "colab": {
          "base_uri": "https://localhost:8080/"
        },
        "outputId": "5236449b-c0d4-4897-b9cb-e3a96074873b"
      },
      "source": [
        "# Creación de arreglos\n",
        "# Arreglo de 1s\n",
        "ones = np.ones((3,5), dtype=np.float32)\n",
        "# Arreglo de 0s\n",
        "zeros = np.zeros((5,5), dtype=np.float32)\n",
        "\n",
        "#Impresión de matrices\n",
        "print(ones)\n",
        "print(zeros)\n",
        "\n",
        "print(\"Matriz 1s tiene: \" + str(len(ones)) + \" filas y \" + str(len(ones[0])) + \" columnas\")\n",
        "\n",
        "# Acceso a la matriz usando índices\n",
        "filas = len(ones)\n",
        "columnas = len(ones[0])\n",
        "\n",
        "print(\"Impresión utilizando índices\")\n",
        "for i in range(filas):\n",
        "  for j in range(columnas):\n",
        "    print(ones[i][j], end= \" \")\n",
        "  print(\" \")\n",
        "\n",
        "print(\"Impresión utilizando elementos\")\n",
        "# Acceso usando elementos\n",
        "for i in ones:\n",
        "  for j in i:\n",
        "    print(j , end =\" \")\n",
        "  print(\" \")"
      ],
      "execution_count": null,
      "outputs": [
        {
          "output_type": "stream",
          "text": [
            "[[1. 1. 1. 1. 1.]\n",
            " [1. 1. 1. 1. 1.]\n",
            " [1. 1. 1. 1. 1.]]\n",
            "[[0. 0. 0. 0. 0.]\n",
            " [0. 0. 0. 0. 0.]\n",
            " [0. 0. 0. 0. 0.]\n",
            " [0. 0. 0. 0. 0.]\n",
            " [0. 0. 0. 0. 0.]]\n",
            "Matriz 1s tiene: 3 filas y 5 columnas\n",
            "Impresión utilizando índices\n",
            "1.0 1.0 1.0 1.0 1.0  \n",
            "1.0 1.0 1.0 1.0 1.0  \n",
            "1.0 1.0 1.0 1.0 1.0  \n",
            "Impresión utilizando elementos\n",
            "1.0 1.0 1.0 1.0 1.0  \n",
            "1.0 1.0 1.0 1.0 1.0  \n",
            "1.0 1.0 1.0 1.0 1.0  \n"
          ],
          "name": "stdout"
        }
      ]
    },
    {
      "cell_type": "code",
      "metadata": {
        "id": "Lhd4g_CDLatT",
        "colab": {
          "base_uri": "https://localhost:8080/"
        },
        "outputId": "439a6bce-1cce-4154-bf51-d87c6b3da525"
      },
      "source": [
        "# Generación de un vector a través del uso de rangos\n",
        "np.arange(1, 100)"
      ],
      "execution_count": null,
      "outputs": [
        {
          "output_type": "execute_result",
          "data": {
            "text/plain": [
              "array([ 1,  2,  3,  4,  5,  6,  7,  8,  9, 10, 11, 12, 13, 14, 15, 16, 17,\n",
              "       18, 19, 20, 21, 22, 23, 24, 25, 26, 27, 28, 29, 30, 31, 32, 33, 34,\n",
              "       35, 36, 37, 38, 39, 40, 41, 42, 43, 44, 45, 46, 47, 48, 49, 50, 51,\n",
              "       52, 53, 54, 55, 56, 57, 58, 59, 60, 61, 62, 63, 64, 65, 66, 67, 68,\n",
              "       69, 70, 71, 72, 73, 74, 75, 76, 77, 78, 79, 80, 81, 82, 83, 84, 85,\n",
              "       86, 87, 88, 89, 90, 91, 92, 93, 94, 95, 96, 97, 98, 99])"
            ]
          },
          "metadata": {
            "tags": []
          },
          "execution_count": 4
        }
      ]
    },
    {
      "cell_type": "code",
      "metadata": {
        "id": "SM-DLDRBPgho",
        "colab": {
          "base_uri": "https://localhost:8080/"
        },
        "outputId": "e0e3e49c-58a1-479c-f432-6768ee51953f"
      },
      "source": [
        "# Concatenando arreglos o matrices\n",
        "A = np.ones((3,3), dtype = np.float32)\n",
        "B = np.zeros((3,3), dtype = np.float32)\n",
        "\n",
        "# concatenar matrices\n",
        "np.concatenate([A,B], axis = 1)"
      ],
      "execution_count": null,
      "outputs": [
        {
          "output_type": "execute_result",
          "data": {
            "text/plain": [
              "array([[1., 1., 1.],\n",
              "       [1., 1., 1.],\n",
              "       [1., 1., 1.],\n",
              "       [0., 0., 0.],\n",
              "       [0., 0., 0.],\n",
              "       [0., 0., 0.]], dtype=float32)"
            ]
          },
          "metadata": {
            "tags": []
          },
          "execution_count": 18
        }
      ]
    },
    {
      "cell_type": "code",
      "metadata": {
        "id": "S9bqh64vQD5a",
        "colab": {
          "base_uri": "https://localhost:8080/"
        },
        "outputId": "25c794ae-a365-4cad-b3dd-3ace750e6b14"
      },
      "source": [
        "# Uso de astype para hacer un cast de tipos de datos\n",
        "A = np.zeros((5,4), dtype = np.float32)\n",
        "print(len(A[0]))\n",
        "\n",
        "for i in range(len(A)):\n",
        "  for j in range(len(A[0])):\n",
        "    A[i][j] = np.pi\n",
        "print(A)\n",
        "\n",
        "print(A.astype(np.int16))"
      ],
      "execution_count": null,
      "outputs": [
        {
          "output_type": "stream",
          "text": [
            "4\n",
            "[[3.1415927 3.1415927 3.1415927 3.1415927]\n",
            " [3.1415927 3.1415927 3.1415927 3.1415927]\n",
            " [3.1415927 3.1415927 3.1415927 3.1415927]\n",
            " [3.1415927 3.1415927 3.1415927 3.1415927]\n",
            " [3.1415927 3.1415927 3.1415927 3.1415927]]\n",
            "[[3 3 3 3]\n",
            " [3 3 3 3]\n",
            " [3 3 3 3]\n",
            " [3 3 3 3]\n",
            " [3 3 3 3]]\n"
          ],
          "name": "stdout"
        }
      ]
    },
    {
      "cell_type": "code",
      "metadata": {
        "id": "-YYZOHcCRkjk",
        "colab": {
          "base_uri": "https://localhost:8080/"
        },
        "outputId": "fe3f0002-3a1d-4f5e-a361-56ab89cb5d3a"
      },
      "source": [
        "# Uso de np.zeros_like y np.ones_like\n",
        "A = np.ones((4,4))\n",
        "print(A)\n",
        "# zeros_like genera un arreglo de las \n",
        "# mismas dimensiones que el original \n",
        "B = np.zeros_like(A)\n",
        "print(B)"
      ],
      "execution_count": null,
      "outputs": [
        {
          "output_type": "stream",
          "text": [
            "[[1. 1. 1. 1.]\n",
            " [1. 1. 1. 1.]\n",
            " [1. 1. 1. 1.]\n",
            " [1. 1. 1. 1.]]\n",
            "[[0. 0. 0. 0.]\n",
            " [0. 0. 0. 0.]\n",
            " [0. 0. 0. 0.]\n",
            " [0. 0. 0. 0.]]\n"
          ],
          "name": "stdout"
        }
      ]
    },
    {
      "cell_type": "code",
      "metadata": {
        "id": "wGKMiDBIRfjT",
        "colab": {
          "base_uri": "https://localhost:8080/"
        },
        "outputId": "738e4eb2-bd5b-47d6-b9c2-f5abf697d8e5"
      },
      "source": [
        "# Generación de arreglos aleatorios\n",
        "A = np.random.random((5, 5))\n",
        "print(A)\n",
        "# Generación de números enteros del 0 al n-1 \n",
        "n = 10\n",
        "B= np.random.randint(10, size = (7,7))\n",
        "print(B)"
      ],
      "execution_count": null,
      "outputs": [
        {
          "output_type": "stream",
          "text": [
            "[[0.71287072 0.29881262 0.08151383 0.53770453 0.72312097]\n",
            " [0.21578967 0.01990806 0.68173396 0.45855876 0.24962121]\n",
            " [0.93722388 0.40639213 0.70056761 0.41524328 0.8542108 ]\n",
            " [0.23657172 0.73113335 0.54375632 0.84581873 0.82910977]\n",
            " [0.08567112 0.31301573 0.31308052 0.51707265 0.21045252]]\n",
            "[[5 1 9 8 0 3 4]\n",
            " [1 5 9 7 5 1 9]\n",
            " [1 1 1 5 0 7 5]\n",
            " [0 9 8 8 4 1 9]\n",
            " [3 5 4 1 0 2 9]\n",
            " [1 7 2 2 9 5 5]\n",
            " [4 7 8 8 4 2 6]]\n"
          ],
          "name": "stdout"
        }
      ]
    },
    {
      "cell_type": "code",
      "metadata": {
        "id": "TEbefbC4Q-ER",
        "colab": {
          "base_uri": "https://localhost:8080/"
        },
        "outputId": "a8e35666-c5b7-4b43-bf30-9d50466831d2"
      },
      "source": [
        "# Transformaciones de arreglos\n",
        "A = np.array([1,2,3,4,5,6])\n",
        "print(A)\n",
        "\n",
        "# Transformar a 3 filas, 2 columnas\n",
        "A = A.reshape(3, 2)\n",
        "print(A)\n",
        "\n",
        "# Se utiliza -1 para determinar cols\n",
        "A = A.reshape(2, -1)\n",
        "print(A)\n",
        "\n",
        "# Transormar a un arreglo lineal\n",
        "A = A.ravel()\n",
        "print(A)"
      ],
      "execution_count": null,
      "outputs": [
        {
          "output_type": "stream",
          "text": [
            "[1 2 3 4 5 6]\n",
            "[[1 2]\n",
            " [3 4]\n",
            " [5 6]]\n",
            "[[1 2 3]\n",
            " [4 5 6]]\n",
            "[1 2 3 4 5 6]\n"
          ],
          "name": "stdout"
        }
      ]
    },
    {
      "cell_type": "code",
      "metadata": {
        "id": "kdP0tMurZrka",
        "colab": {
          "base_uri": "https://localhost:8080/"
        },
        "outputId": "268e371e-5850-4d0b-d9ee-2d433e30afc2"
      },
      "source": [
        "# Transpuesta de una matriz\n",
        "A = np.arange(25).reshape(5,5)\n",
        "print(\"Matriz Original: \\n\" + str(A))\n",
        "# Imprimir matriz transpuesta\n",
        "print(\"Matriz Transpuesta: \\n\" + str(A.T))\n",
        "# Imprimir matriz \n",
        "print(\"Matriz Transpuesta: \\n\" + str(A.transpose((1,0))))\n",
        "\n"
      ],
      "execution_count": null,
      "outputs": [
        {
          "output_type": "stream",
          "text": [
            "Matriz Original: \n",
            "[[ 0  1  2  3  4]\n",
            " [ 5  6  7  8  9]\n",
            " [10 11 12 13 14]\n",
            " [15 16 17 18 19]\n",
            " [20 21 22 23 24]]\n",
            "Matriz Transpuesta: \n",
            "[[ 0  5 10 15 20]\n",
            " [ 1  6 11 16 21]\n",
            " [ 2  7 12 17 22]\n",
            " [ 3  8 13 18 23]\n",
            " [ 4  9 14 19 24]]\n",
            "Matriz Transpuesta: \n",
            "[[ 0  5 10 15 20]\n",
            " [ 1  6 11 16 21]\n",
            " [ 2  7 12 17 22]\n",
            " [ 3  8 13 18 23]\n",
            " [ 4  9 14 19 24]]\n"
          ],
          "name": "stdout"
        }
      ]
    },
    {
      "cell_type": "code",
      "metadata": {
        "id": "u44c41iHY8qZ",
        "colab": {
          "base_uri": "https://localhost:8080/"
        },
        "outputId": "e526bdb5-2b7d-42c1-995e-3b6c0ef7ab45"
      },
      "source": [
        "# Operadores Matemáticos\n",
        "A = np.arange(100).reshape(10,10)\n",
        "print(\"Primer Matriz: \\n\" + str(A))\n",
        "\n",
        "B = np.arange(100, 200).reshape(10, 10)\n",
        "print(\"Segunda Matriz: \\n\" + str(B))\n",
        "\n",
        "# Calcular la suma de ambas matrices\n",
        "print(\"Suma: \"  + str(A + B))\n",
        "\n",
        "# Calcular la resta de ambas matrices\n",
        "print(\"resta: \"  + str(B - A))\n",
        "\n",
        "# Calcular la multiplicación de ambas matrices\n",
        "print(\"multiplicación: \"  + str(A * B))"
      ],
      "execution_count": null,
      "outputs": [
        {
          "output_type": "stream",
          "text": [
            "Primer Matriz: \n",
            "[[ 0  1  2  3  4  5  6  7  8  9]\n",
            " [10 11 12 13 14 15 16 17 18 19]\n",
            " [20 21 22 23 24 25 26 27 28 29]\n",
            " [30 31 32 33 34 35 36 37 38 39]\n",
            " [40 41 42 43 44 45 46 47 48 49]\n",
            " [50 51 52 53 54 55 56 57 58 59]\n",
            " [60 61 62 63 64 65 66 67 68 69]\n",
            " [70 71 72 73 74 75 76 77 78 79]\n",
            " [80 81 82 83 84 85 86 87 88 89]\n",
            " [90 91 92 93 94 95 96 97 98 99]]\n",
            "Segunda Matriz: \n",
            "[[100 101 102 103 104 105 106 107 108 109]\n",
            " [110 111 112 113 114 115 116 117 118 119]\n",
            " [120 121 122 123 124 125 126 127 128 129]\n",
            " [130 131 132 133 134 135 136 137 138 139]\n",
            " [140 141 142 143 144 145 146 147 148 149]\n",
            " [150 151 152 153 154 155 156 157 158 159]\n",
            " [160 161 162 163 164 165 166 167 168 169]\n",
            " [170 171 172 173 174 175 176 177 178 179]\n",
            " [180 181 182 183 184 185 186 187 188 189]\n",
            " [190 191 192 193 194 195 196 197 198 199]]\n",
            "Suma: [[100 102 104 106 108 110 112 114 116 118]\n",
            " [120 122 124 126 128 130 132 134 136 138]\n",
            " [140 142 144 146 148 150 152 154 156 158]\n",
            " [160 162 164 166 168 170 172 174 176 178]\n",
            " [180 182 184 186 188 190 192 194 196 198]\n",
            " [200 202 204 206 208 210 212 214 216 218]\n",
            " [220 222 224 226 228 230 232 234 236 238]\n",
            " [240 242 244 246 248 250 252 254 256 258]\n",
            " [260 262 264 266 268 270 272 274 276 278]\n",
            " [280 282 284 286 288 290 292 294 296 298]]\n",
            "resta: [[100 100 100 100 100 100 100 100 100 100]\n",
            " [100 100 100 100 100 100 100 100 100 100]\n",
            " [100 100 100 100 100 100 100 100 100 100]\n",
            " [100 100 100 100 100 100 100 100 100 100]\n",
            " [100 100 100 100 100 100 100 100 100 100]\n",
            " [100 100 100 100 100 100 100 100 100 100]\n",
            " [100 100 100 100 100 100 100 100 100 100]\n",
            " [100 100 100 100 100 100 100 100 100 100]\n",
            " [100 100 100 100 100 100 100 100 100 100]\n",
            " [100 100 100 100 100 100 100 100 100 100]]\n",
            "multiplicación: [[    0   101   204   309   416   525   636   749   864   981]\n",
            " [ 1100  1221  1344  1469  1596  1725  1856  1989  2124  2261]\n",
            " [ 2400  2541  2684  2829  2976  3125  3276  3429  3584  3741]\n",
            " [ 3900  4061  4224  4389  4556  4725  4896  5069  5244  5421]\n",
            " [ 5600  5781  5964  6149  6336  6525  6716  6909  7104  7301]\n",
            " [ 7500  7701  7904  8109  8316  8525  8736  8949  9164  9381]\n",
            " [ 9600  9821 10044 10269 10496 10725 10956 11189 11424 11661]\n",
            " [11900 12141 12384 12629 12876 13125 13376 13629 13884 14141]\n",
            " [14400 14661 14924 15189 15456 15725 15996 16269 16544 16821]\n",
            " [17100 17381 17664 17949 18236 18525 18816 19109 19404 19701]]\n"
          ],
          "name": "stdout"
        }
      ]
    },
    {
      "cell_type": "code",
      "metadata": {
        "id": "6ypxSJKoY3p9",
        "colab": {
          "base_uri": "https://localhost:8080/"
        },
        "outputId": "fb4894bb-7d7f-44ad-8367-92e6861607cb"
      },
      "source": [
        "# Operadores lógicos\n",
        "A = np.random.random((5,5))\n",
        "print(\"Matriz Original: \\n\" + str(A))\n",
        "\n",
        "# Operador lógico\n",
        "print(\"Operador lógico a >5 \\n\" + str(A > 0.5))"
      ],
      "execution_count": null,
      "outputs": [
        {
          "output_type": "stream",
          "text": [
            "Matriz Original: \n",
            "[[0.50745451 0.85742292 0.03131221 0.0220632  0.93748903]\n",
            " [0.79858488 0.02277429 0.98031463 0.09460174 0.03646411]\n",
            " [0.11670299 0.86145845 0.07489648 0.57176339 0.35089049]\n",
            " [0.97164412 0.18996996 0.58559677 0.62125253 0.72437122]\n",
            " [0.04110709 0.70706612 0.33786884 0.32971782 0.38878959]]\n",
            "Operador lógico a >5 \n",
            "[[ True  True False False  True]\n",
            " [ True False  True False False]\n",
            " [False  True False  True False]\n",
            " [ True False  True  True  True]\n",
            " [False  True False False False]]\n"
          ],
          "name": "stdout"
        }
      ]
    },
    {
      "cell_type": "code",
      "metadata": {
        "id": "_jgah2aMe1A1",
        "colab": {
          "base_uri": "https://localhost:8080/"
        },
        "outputId": "862f2762-eab2-452c-cd88-77282031ea3e"
      },
      "source": [
        "# Operaciones in-situ \n",
        "A = np.random.randint(10, size= (5,5))\n",
        "print(\"Matriz A Original: \\n\" + str(A))\n",
        "\n",
        "B = A = np.random.randint(10, size= (5,5))\n",
        "print(\"Matriz B Original: \\n\" + str(B))\n",
        "\n",
        "# Operación in-situ\n",
        "A += B\n",
        "print(\"Matriz A Modificada: \\n\" + str(A))"
      ],
      "execution_count": null,
      "outputs": [
        {
          "output_type": "stream",
          "text": [
            "Matriz A Original: \n",
            "[[2 8 0 7 5]\n",
            " [9 2 9 4 3]\n",
            " [5 2 5 7 0]\n",
            " [3 1 4 8 3]\n",
            " [8 4 1 9 2]]\n",
            "Matriz B Original: \n",
            "[[3 7 2 8 6]\n",
            " [7 1 4 4 4]\n",
            " [4 4 0 9 5]\n",
            " [5 1 6 3 9]\n",
            " [5 4 9 7 9]]\n",
            "Matriz A Modificada: \n",
            "[[ 6 14  4 16 12]\n",
            " [14  2  8  8  8]\n",
            " [ 8  8  0 18 10]\n",
            " [10  2 12  6 18]\n",
            " [10  8 18 14 18]]\n"
          ],
          "name": "stdout"
        }
      ]
    },
    {
      "cell_type": "code",
      "metadata": {
        "id": "qnL5B5LMfzz9",
        "colab": {
          "base_uri": "https://localhost:8080/"
        },
        "outputId": "7cf5980c-8e01-40c8-eb49-737c849f16e1"
      },
      "source": [
        "# Funciones universales\n",
        "A = np.random.randint(10, 100, size= (5,5))\n",
        "print(\"Matriz A Original: \\n\" + str(A))\n",
        "\n",
        "# Calcular Raiz cuadrada\n",
        "print(\"Raiz Cuadrada: \\n\" + str(np.sqrt(A)))\n",
        "\n",
        "# Calcular raiz a elemento de la matriz\n",
        "print(np.sqrt(A[0][0]))\n"
      ],
      "execution_count": null,
      "outputs": [
        {
          "output_type": "stream",
          "text": [
            "Matriz A Original: \n",
            "[[84 16 65 95 56]\n",
            " [34 51 64 17 48]\n",
            " [61 77 68 54 39]\n",
            " [26 84 34 48 44]\n",
            " [90 57 87 15 66]]\n",
            "Raiz Cuadrada: \n",
            "[[9.16515139 4.         8.06225775 9.74679434 7.48331477]\n",
            " [5.83095189 7.14142843 8.         4.12310563 6.92820323]\n",
            " [7.81024968 8.77496439 8.24621125 7.34846923 6.244998  ]\n",
            " [5.09901951 9.16515139 5.83095189 6.92820323 6.63324958]\n",
            " [9.48683298 7.54983444 9.32737905 3.87298335 8.1240384 ]]\n",
            "9.16515138991168\n"
          ],
          "name": "stdout"
        }
      ]
    },
    {
      "cell_type": "markdown",
      "metadata": {
        "id": "0qFDMEpz4oKY"
      },
      "source": [
        "#### Inversa de una matriz\n"
      ]
    },
    {
      "cell_type": "code",
      "metadata": {
        "id": "gGbw1o3x4ruc",
        "colab": {
          "base_uri": "https://localhost:8080/"
        },
        "outputId": "ef402d18-cc12-4ab2-b262-f485ebc4bd7a"
      },
      "source": [
        "# Inversa de una matriz\n",
        "import numpy as np\n",
        "\n",
        "# Inicializar una matriz \n",
        "A = np.random.randint(10, size= (5,5))\n",
        "print(\"Matriz A Original: \\n\" + str(A))\n",
        "\n",
        "# Calcular matriz inversa\n",
        "B = np.linalg.inv(A)\n",
        "print(\"Matriz Inversa A^-1: \\n\" + str(B))"
      ],
      "execution_count": null,
      "outputs": [
        {
          "output_type": "stream",
          "text": [
            "Matriz A Original: \n",
            "[[6 0 2 9 8]\n",
            " [9 6 8 5 9]\n",
            " [1 3 6 8 5]\n",
            " [6 8 3 5 0]\n",
            " [7 9 6 8 7]]\n",
            "Matriz Inversa A^-1: \n",
            "[[ 7.69230769e-02  1.12452570e-01 -6.33839255e-02  1.50051742e-01\n",
            "  -1.87219731e-01]\n",
            " [-7.69230769e-02 -9.89996551e-02 -7.22662987e-02 -7.38185581e-02\n",
            "   2.66816143e-01]\n",
            " [-7.69230769e-02  1.65574336e-01  1.76612625e-01  9.21007244e-02\n",
            "  -2.51121076e-01]\n",
            " [ 7.69230769e-02 -7.58882373e-02  8.57192135e-02  8.27871680e-02\n",
            "  -5.15695067e-02]\n",
            " [ 1.56250774e-17 -4.03587444e-02 -9.30493274e-02 -2.28699552e-01\n",
            "   2.61210762e-01]]\n"
          ],
          "name": "stdout"
        }
      ]
    },
    {
      "cell_type": "markdown",
      "metadata": {
        "id": "5JO3NyGytIri"
      },
      "source": [
        "***\n",
        "Termina repaso de Numpy \n",
        "***"
      ]
    },
    {
      "cell_type": "markdown",
      "metadata": {
        "id": "E6u2pOuQtQEl"
      },
      "source": [
        "## 1. Eliminación Gaussiana"
      ]
    },
    {
      "cell_type": "code",
      "metadata": {
        "id": "4yw_ZGXqvqza",
        "colab": {
          "base_uri": "https://localhost:8080/"
        },
        "outputId": "ad75fd05-05e3-4449-834a-1695b0096c36"
      },
      "source": [
        "import numpy as np\n",
        "import sympy\n",
        "\n",
        "class GaussJordan:\n",
        "    \n",
        "    # Constructor\n",
        "    #def init(self, filas, cols, M):\n",
        "        #self.f = filas\n",
        "        #self.c = cols\n",
        "        #self.M = M\n",
        "\n",
        "    \"\"\"\n",
        "        Método para intercambiar dos filas de la matriz M\n",
        "        Entradas: indices de la primer y segunda fila \n",
        "        Salidas: Matriz M modificada\n",
        "    \"\"\"\n",
        "    def intercambiarFilas(self, index1, index2, M):\n",
        "        #print(\"A intercambiar\", index1, \" por \", index2)\n",
        "        #print(\"Antes \\n\", M)\n",
        "        for i in range(len(M[0])): # itera sobre el número de columnas\n",
        "            tmp = M[index2][i]\n",
        "            M[index2][i] = M[index1][i]\n",
        "            M[index1][i] = tmp\n",
        "        #print(\"Después:\\n\", M)\n",
        "        return M\n",
        "\n",
        "    \n",
        "    def multiplicarFila(self, k, fila, colInicial, M):\n",
        "        for i in range (colInicial, len(M[0])):\n",
        "            M[fila][i] = k * M[fila][i]\n",
        "        return M\n",
        "\n",
        "    \"\"\"\n",
        "        Método empleado para realizar la eliminación resta dos filas\n",
        "        Entradas: indices de  filas 1 y 2, columna inicial y Matriz\n",
        "        Salida: Matriz M modficada\n",
        "    \"\"\"\n",
        "    def restarFilas(self, f1, f2, colInicial, M):\n",
        "        for i in range(colInicial, len(M[0])):\n",
        "            M[f1][i] =  M[f2][i] - M[f1][i]\n",
        "        return M \n",
        "\n",
        "\n",
        "    \"\"\"\n",
        "        Método para buscar un elemento pivote, se implementa pivoteo parcial\n",
        "        Entradas: filas, columna actual y matriz\n",
        "        Salidas: Matriz modificada\n",
        "    \"\"\"\n",
        "    def buscarPivote(self, filas, col, M):\n",
        "        indiceFila = -1\n",
        "        maxNum = np.inf *-1\n",
        "        for i in range(col+1, filas):\n",
        "            if(M[i][col] > maxNum and M[i][col] != 0):\n",
        "                indiceFila = i\n",
        "                maxNum = M[i][col]\n",
        "        return indiceFila\n",
        "\n",
        "    #def calcularInversa(self, MAug, f, c):\n",
        "        # self.GaussJordan()\n",
        "\n",
        "    \"\"\"\n",
        "        Método para efectuar la eliminación Gaussiana\n",
        "        Entradas: Número de filas y columnas, Matriz\n",
        "        Salida: Matriz modificada\n",
        "    \"\"\"\n",
        "    def eliminicacionGaussiana(self, f, c, M):\n",
        "        # Definición de variables\n",
        "        indicePiv = -1\n",
        "        \n",
        "        for i in range(f):\n",
        "            pivote = M[i][i]\n",
        "            if pivote == 0:\n",
        "                indicePiv = self.buscarPivote(f, i, M) # Se implementa pivoteo parcial\n",
        "                #TODO: Implementar pivoteo completo\n",
        "                if indicePiv == -1:\n",
        "                    print(\"El sistema no tiene solución\")\n",
        "                    exit(0)\n",
        "                else:\n",
        "                    M = self.intercambiarFilas(indicePiv, i, M)\n",
        "                    pivote = M[i][i]\n",
        "            \n",
        "            for j in range(i+1, f): # Realizar la eliminación de los elementos debajo del pivote\n",
        "                if M[j][i] != 0:\n",
        "                    k = pivote / M[j][i]    # Multiplicador para la eliminación\n",
        "                    M = self.multiplicarFila(k, j, i, M)\n",
        "                    M = self.restarFilas(j, i, i, M)\n",
        "        print(\"Matriz resultante: \\n\", M)\n",
        "\n",
        "\"\"\"\n",
        "    Método para calcular la inversa de una matriz M\n",
        "    Entradas: Filas, columnas y Matriz original\n",
        "    Salida: Matriz inversa\n",
        "\"\"\"\n",
        "def calculateInverse(f, c, M):\n",
        "    # Definición de matriz identidad\n",
        "    I = np.identity(f)\n",
        "    print(\"Identidad: \\n\", I)\n",
        "\n",
        "    MAug = np.concatenate([M,I], axis=1)\n",
        "    print(\"Matriz aumentada: \\n\", MAug)\n",
        "    # Generar matriz aumentada\n",
        "\n",
        "def main():\n",
        "\n",
        "    # Definición de número de filas y columnas\n",
        "    f = 3\n",
        "    c = f+1 # +1 se debe a la columna de resultados\n",
        "    \n",
        "    # Inicializar una matriz de \n",
        "    M = np.random.randint(10, size = (f,c))\n",
        "\n",
        "    print(\"matrix aleatoria:\\n\", M)\n",
        "    \n",
        "    # Creación de un objeto\n",
        "    objG = GaussJordan()\n",
        "    print(\"Realizando eliminación Gaussiana...\")\n",
        "    objG.eliminicacionGaussiana(f, c, M) \n",
        "\n",
        "\n",
        "\n",
        "\n",
        "\n",
        "if __name__ == \"__main__\":\n",
        "    main()"
      ],
      "execution_count": 3,
      "outputs": [
        {
          "output_type": "stream",
          "text": [
            "matrix aleatoria:\n",
            " [[9 0 7 6]\n",
            " [7 5 5 9]\n",
            " [9 4 5 1]]\n",
            "Realizando eliminación Gaussiana...\n",
            "Matriz resultante: \n",
            " [[  9   0   7   6]\n",
            " [  0  -6   1  -5]\n",
            " [  0   0  -2 -12]]\n"
          ],
          "name": "stdout"
        }
      ]
    },
    {
      "cell_type": "markdown",
      "metadata": {
        "id": "gTGKYEQytTnK"
      },
      "source": [
        "## 2. El método gráfico (2D y 3D)"
      ]
    },
    {
      "cell_type": "code",
      "metadata": {
        "id": "IqztlrnL3Ye7",
        "colab": {
          "base_uri": "https://localhost:8080/"
        },
        "outputId": "0bec21a8-1924-4af1-8901-f91a183b6ffb"
      },
      "source": [
        "\n",
        "\n"
      ],
      "execution_count": null,
      "outputs": [
        {
          "output_type": "stream",
          "text": [
            "inf\n",
            "-18446744073709551616\n",
            "4294967296\n"
          ],
          "name": "stdout"
        }
      ]
    }
  ]
}