{
  "nbformat": 4,
  "nbformat_minor": 0,
  "metadata": {
    "colab": {
      "name": "Computación II (2022-2)- UNIDAD I .ipynb",
      "private_outputs": true,
      "provenance": [],
      "collapsed_sections": [
        "roRgGiJy5XmG"
      ],
      "authorship_tag": "ABX9TyP+NpnnSsOkJxTZyMqpsodz",
      "include_colab_link": true
    },
    "kernelspec": {
      "name": "python3",
      "display_name": "Python 3"
    },
    "language_info": {
      "name": "python"
    }
  },
  "cells": [
    {
      "cell_type": "markdown",
      "metadata": {
        "id": "view-in-github",
        "colab_type": "text"
      },
      "source": [
        "<a href=\"https://colab.research.google.com/github/ulises1229/CompII_2022-2/blob/main/code/Computaci%C3%B3n_II_(2022_2)_UNIDAD_I_.ipynb\" target=\"_parent\"><img src=\"https://colab.research.google.com/assets/colab-badge.svg\" alt=\"Open In Colab\"/></a>"
      ]
    },
    {
      "cell_type": "markdown",
      "source": [
        "# Licenciatura en Tecnología - Computación II - Resolución de sistemas de ecuaciones lineales\n",
        "\n",
        "\n",
        "---\n",
        "+ Autor: Ulises  Olivares\n",
        "+ Email: uolivares@unam.mx\n",
        "+ 2 de febrero de 2022\n",
        "---\n",
        "\n",
        "\n",
        "<img src=\"https://github.com/ulises1229/CompII_2022-2/blob/0e96976ec886b76c3501debe8204eac6b9ee5ae1/figs/lictec_small.png?raw=true\" alt=\"drawing\" width=\"300\" style = \"text-align: center\"/>\n"
      ],
      "metadata": {
        "id": "GeiIHXUmY2Y7"
      }
    },
    {
      "cell_type": "markdown",
      "metadata": {
        "id": "roRgGiJy5XmG"
      },
      "source": [
        "## 0. *Numpy - Repaso*\n",
        "\n",
        "Demostrar el uso de arreglos unidimensionales y bi-dimensionales utilizando numpy.\n",
        "\n",
        "Numpy: [tipos de datos](https://numpy.org/doc/stable/user/basics.types.html)"
      ]
    },
    {
      "cell_type": "markdown",
      "source": [
        ""
      ],
      "metadata": {
        "id": "ZWpObewpwg9v"
      }
    },
    {
      "cell_type": "code",
      "metadata": {
        "id": "iV2tLujWH1N1"
      },
      "source": [
        "# importar librería de numpy \n",
        "import numpy as np\n",
        "\n",
        "# Se Crea un arreglo bi-dimensional\n",
        "a = np.array([[1.1,2.2,3.3], \n",
        "              [4,5,6]], \n",
        "             dtype = np.int32)\n",
        "# Imprimir matriz\n",
        "print(a)\n",
        "\n",
        "# IMPRIMIR ELEMENTOS\n",
        "print(\"Dimensiones: \" + str(a.ndim))\n",
        "print(\"Forma: \" + str(a.shape))\n",
        "print(\"Tipo de datos: \" + str(a.dtype))"
      ],
      "execution_count": null,
      "outputs": []
    },
    {
      "cell_type": "code",
      "metadata": {
        "id": "kq_pDjfjJWjF"
      },
      "source": [
        "# Creación de arreglos\n",
        "# Arreglo de 1s\n",
        "ones = np.ones((3,5), dtype=np.float32)\n",
        "# Arreglo de 0s\n",
        "zeros = np.zeros((5,5), dtype=np.float32)\n",
        "\n",
        "#Impresión de matrices\n",
        "print(ones)\n",
        "print(zeros)\n",
        "\n",
        "print(\"Matriz 1s tiene: \" + str(len(ones)) + \" filas y \" + str(len(ones[0])) + \" columnas\")\n",
        "print(\"La forma de 1s es: \" + str(ones.shape))\n",
        "\n",
        "# Acceso a la matriz usando índices\n",
        "filas = len(ones)\n",
        "columnas = len(ones[0])\n",
        "\n",
        "print(\"Impresión utilizando índices\")\n",
        "for i in range(filas):\n",
        "  for j in range(columnas):\n",
        "    print(ones[i][j], end= \"\\t\")\n",
        "  print(\" \")\n",
        "\n",
        "print(\"Impresión utilizando elementos\")\n",
        "# Acceso usando elementos\n",
        "for i in ones:\n",
        "    for j in i:\n",
        "        print(j , end =\" \")\n",
        "    print(\" \")\n"
      ],
      "execution_count": null,
      "outputs": []
    },
    {
      "cell_type": "code",
      "metadata": {
        "id": "Lhd4g_CDLatT"
      },
      "source": [
        "# Generación de un vector a través del uso de rangos\n",
        "np.arange?\n",
        "A = np.arange(0, 101, 5)\n",
        "print(A)"
      ],
      "execution_count": null,
      "outputs": []
    },
    {
      "cell_type": "code",
      "metadata": {
        "id": "SM-DLDRBPgho"
      },
      "source": [
        "# Concatenando arreglos o matrices\n",
        "A = np.ones((3,3), dtype = np.float32)\n",
        "B = np.zeros((3,3), dtype = np.float32)\n",
        "\n",
        "# concatenar matrices\n",
        "np.concatenate([A,B], axis = 0)"
      ],
      "execution_count": null,
      "outputs": []
    },
    {
      "cell_type": "code",
      "metadata": {
        "id": "S9bqh64vQD5a"
      },
      "source": [
        "# Uso de astype para hacer un cast de tipos de datos\n",
        "A = np.zeros((5,4), dtype = np.float32)\n",
        "print(len(A[0]))\n",
        "\n",
        "for i in range(len(A)):\n",
        "  for j in range(len(A[0])):\n",
        "    A[i][j] = np.pi\n",
        "print(A)\n",
        "\n",
        "print(A.astype(np.int16))"
      ],
      "execution_count": null,
      "outputs": []
    },
    {
      "cell_type": "code",
      "metadata": {
        "id": "-YYZOHcCRkjk"
      },
      "source": [
        "# Uso de np.zeros_like y np.ones_like\n",
        "A = np.ones((4,4))\n",
        "print(A)\n",
        "# zeros_like genera un arreglo de las \n",
        "# mismas dimensiones que el original \n",
        "B = np.zeros_like(A)\n",
        "print(B)"
      ],
      "execution_count": null,
      "outputs": []
    },
    {
      "cell_type": "code",
      "metadata": {
        "id": "wGKMiDBIRfjT"
      },
      "source": [
        "# Generación de arreglos aleatorios\n",
        "A = np.random.random((5, 5))\n",
        "np.random.?\n",
        "print(A)\n",
        "# Generación de números enteros del 0 al n-1 \n",
        "n = 10\n",
        "B= np.random.randint(3,10, size = (7,7))\n",
        "print(B)"
      ],
      "execution_count": null,
      "outputs": []
    },
    {
      "cell_type": "code",
      "metadata": {
        "id": "TEbefbC4Q-ER"
      },
      "source": [
        "# Transformaciones de arreglos\n",
        "A = np.array([1,2,3,4,5,6])\n",
        "print(A)\n",
        "\n",
        "# Transformar a 3 filas, 2 columnas\n",
        "A = A.reshape(3, 2)\n",
        "print(A)\n",
        "\n",
        "# Se utiliza -1 para determinar cols\n",
        "A = A.reshape(-1, 1)\n",
        "print(A)\n",
        "\n",
        "# Transormar a un arreglo lineal\n",
        "A = A.ravel()\n",
        "print(A)"
      ],
      "execution_count": null,
      "outputs": []
    },
    {
      "cell_type": "code",
      "metadata": {
        "id": "kdP0tMurZrka"
      },
      "source": [
        "# Transpuesta de una matriz\n",
        "A = np.arange(25).reshape(5,5)\n",
        "\n",
        "# Inicializar matriz con 0's\n",
        "B = np.zeros_like(A)\n",
        "\n",
        "# calcular matriz transpuesta manual\n",
        "for i in range(len(A)):\n",
        "    for j in range(len(A[0])):\n",
        "        B[i][j] = A[j][i];\n",
        "\n",
        "print(B)\n",
        "\n",
        "print(\"Matriz Original: \\n\" + str(A))\n",
        "# Imprimir matriz transpuesta\n",
        "print(\"Matriz Transpuesta: \\n\" + str(A.T))\n",
        "# Imprimir matriz \n",
        "print(\"Matriz Transpuesta: \\n\" + str(A.transpose((1,0))))\n",
        "A.transpose?\n",
        "\n"
      ],
      "execution_count": null,
      "outputs": []
    },
    {
      "cell_type": "code",
      "metadata": {
        "id": "u44c41iHY8qZ"
      },
      "source": [
        "# Operadores Matemáticos\n",
        "A = np.arange(100).reshape(10,10)\n",
        "print(\"Primer Matriz: \\n\" + str(A))\n",
        "\n",
        "np.arange?\n",
        "B = np.arange(100, 200).reshape(10, 10)\n",
        "print(\"Segunda Matriz: \\n\", (B))\n",
        "\n",
        "# Calcular la suma de ambas matrices\n",
        "print(\"Suma: \\n\"  ,(A + B))\n",
        "\n",
        "# Calcular la resta de ambas matrices\n",
        "print(\"resta: \\n\", (B - A))\n",
        "\n",
        "# Calcular la multiplicación de ambas matrices\n",
        "print(\"multiplicación elemento por elemento: \\n\" , (A * B))\n",
        "# NOTA: * denota una multiplicación elemento por elemento.\n",
        "\n",
        "print(\"Multilicación de matrices \\n\", (A@B)) \n",
        "\n",
        "print(\"Multiplicación de matrices \\n\", np.matmul(A,B))\n"
      ],
      "execution_count": null,
      "outputs": []
    },
    {
      "cell_type": "code",
      "metadata": {
        "id": "6ypxSJKoY3p9"
      },
      "source": [
        "# Operadores lógicos\n",
        "A = np.random.random((5,5))\n",
        "print(\"Matriz Original: \\n\" + str(A))\n",
        "\n",
        "# Operador lógico\n",
        "print(\"Operador lógico a >5 \\n\" + str(A >= 0.5))"
      ],
      "execution_count": null,
      "outputs": []
    },
    {
      "cell_type": "code",
      "metadata": {
        "id": "_jgah2aMe1A1"
      },
      "source": [
        "# Operaciones in-situ \n",
        "A = np.random.randint(10, size= (5,5))\n",
        "print(\"Matriz A Original: \\n\" + str(A))\n",
        "\n",
        "B = np.random.randint(10, size= (5,5))\n",
        "print(\"Matriz B Original: \\n\" + str(B))\n",
        "\n",
        "# Operación in-situ\n",
        "A += B\n",
        "print(\"Matriz A Modificada: \\n\" + str(A))"
      ],
      "execution_count": null,
      "outputs": []
    },
    {
      "cell_type": "code",
      "metadata": {
        "id": "qnL5B5LMfzz9"
      },
      "source": [
        "# Funciones universales\n",
        "A = np.random.randint(10, 100, size= (5,5))\n",
        "print(\"Matriz A Original: \\n\" + str(A))\n",
        "\n",
        "# Calcular Raiz cuadrada\n",
        "print(\"Raiz Cuadrada: \\n\" + str(np.sqrt(A)))\n",
        "\n",
        "# Calcular raiz a elemento de la matriz\n",
        "print(np.sqrt(A[0][0]))\n"
      ],
      "execution_count": null,
      "outputs": []
    },
    {
      "cell_type": "markdown",
      "metadata": {
        "id": "0qFDMEpz4oKY"
      },
      "source": [
        "#### Inversa de una matriz\n"
      ]
    },
    {
      "cell_type": "code",
      "metadata": {
        "id": "gGbw1o3x4ruc"
      },
      "source": [
        "# Inversa de una matriz\n",
        "import numpy as np\n",
        "\n",
        "# Inicializar una matriz \n",
        "A = np.random.randint(10, size= (5,5))\n",
        "print(\"Matriz A Original: \\n\" + str(A))\n",
        "\n",
        "# Calcular matriz inversa\n",
        "B = np.linalg.inv(A)\n",
        "print(\"Matriz Inversa A^-1: \\n\" + str(B))"
      ],
      "execution_count": null,
      "outputs": []
    },
    {
      "cell_type": "markdown",
      "metadata": {
        "id": "5JO3NyGytIri"
      },
      "source": [
        "***\n",
        "Termina repaso de Numpy \n",
        "***"
      ]
    },
    {
      "cell_type": "markdown",
      "metadata": {
        "id": "E6u2pOuQtQEl"
      },
      "source": [
        "## 1. Eliminación Gaussiana"
      ]
    },
    {
      "cell_type": "code",
      "metadata": {
        "id": "4yw_ZGXqvqza"
      },
      "source": [
        "import numpy as np\n",
        "import sympy\n",
        "\n",
        "class GaussJordan:\n",
        "    \"\"\"\n",
        "    # Constructor\n",
        "    def init(self, filas, cols, M):\n",
        "        self.f = filas\n",
        "        self.c = cols\n",
        "        self.M = M\n",
        "    \"\"\" \n",
        "    \"\"\"\n",
        "        Método para intercambiar dos filas de la matriz M\n",
        "        Entradas: indices de la primer y segunda fila \n",
        "        Salidas: Matriz M modificada\n",
        "    \"\"\"\n",
        "    def intercambiarFilas(self, index1, index2, M):\n",
        "        #print(\"A intercambiar\", index1, \" por \", index2)\n",
        "        #print(\"Antes \\n\", M)\n",
        "        for i in range(len(M[0])): # itera sobre el número de columnas\n",
        "            tmp = M[index2][i]\n",
        "            M[index2][i] = M[index1][i]\n",
        "            M[index1][i] = tmp\n",
        "        #print(\"Después:\\n\", M)\n",
        "        return M\n",
        "\n",
        "    \n",
        "    def multiplicarFila(self, k, fila, colInicial, M):\n",
        "        for i in range (colInicial, len(M[0])):\n",
        "            M[fila][i] = k * M[fila][i]\n",
        "        return M\n",
        "\n",
        "    \"\"\"\n",
        "        Método empleado para realizar la eliminación resta dos filas\n",
        "        Entradas: indices de  filas 1 y 2, columna inicial y Matriz\n",
        "        Salida: Matriz M modficada\n",
        "    \"\"\"\n",
        "    def restarFilas(self, f1, f2, colInicial, M):\n",
        "        for i in range(colInicial, len(M[0])):\n",
        "            M[f1][i] =  M[f2][i] - M[f1][i]\n",
        "        return M \n",
        "\n",
        "\n",
        "    \"\"\"\n",
        "        Método para buscar un elemento pivote, se implementa pivoteo parcial\n",
        "        Entradas: filas, columna actual y matriz\n",
        "        Salidas: Matriz modificada\n",
        "    \"\"\"\n",
        "    def buscarPivote(self, filas, col, M):\n",
        "        indiceFila = -1\n",
        "        maxNum = np.inf *-1\n",
        "        for i in range(col+1, filas):\n",
        "            if(M[i][col] > maxNum and M[i][col] != 0):\n",
        "                indiceFila = i\n",
        "                maxNum = M[i][col]\n",
        "        return indiceFila\n",
        "\n",
        "    #def calcularInversa(self, MAug, f, c):\n",
        "        # self.GaussJordan()\n",
        "\n",
        "    \"\"\"\n",
        "        Método para efectuar la eliminación Gaussiana\n",
        "        Entradas: Número de filas y columnas, Matriz\n",
        "        Salida: Matriz modificada\n",
        "    \"\"\"\n",
        "    def eliminicacionGaussiana(self, f, c, M):\n",
        "        # Definición de variables\n",
        "        indicePiv = -1\n",
        "        \n",
        "        for i in range(f):\n",
        "            pivote = M[i][i]\n",
        "            if pivote == 0:\n",
        "                indicePiv = self.buscarPivote(f, i, M) # Se implementa pivoteo parcial\n",
        "                #TODO: Implementar pivoteo completo\n",
        "                if indicePiv == -1:\n",
        "                    print(\"El sistema no tiene solución\")\n",
        "                    exit(0)\n",
        "                else:\n",
        "                    M = self.intercambiarFilas(indicePiv, i, M)\n",
        "                    pivote = M[i][i]\n",
        "            \n",
        "            for j in range(i+1, f): # Realizar la eliminación de los elementos debajo del pivote\n",
        "                if M[j][i] != 0:\n",
        "                    k = pivote / M[j][i]    # Multiplicador para la eliminación\n",
        "                    M = self.multiplicarFila(k, j, i, M)\n",
        "                    M = self.restarFilas(j, i, i, M)\n",
        "        print(\"Matriz resultante: \\n\", M)\n",
        "\n",
        "\"\"\"\n",
        "    Método para calcular la inversa de una matriz M\n",
        "    Entradas: Filas, columnas y Matriz original\n",
        "    Salida: Matriz inversa\n",
        "\"\"\"\n",
        "def calculateInverseMatrix(f, c, M):\n",
        "    # Definición de matriz identidad\n",
        "    I = np.identity(f)\n",
        "    print(\"Identidad: \\n\", I)\n",
        "\n",
        "    # Generar matriz aumentada\n",
        "    MAum = np.concatenate([M,I], axis=1)\n",
        "    print(\"Matriz aumentada: \\n\", MAum)\n",
        "    \n",
        "\n",
        "def main():\n",
        "\n",
        "    # Definición de número de filas y columnas\n",
        "    f = 10\n",
        "    c = f+1 # +1 se debe a la columna de resultados\n",
        "    \n",
        "    # Inicializar una matriz de \n",
        "    M = np.random.randint(10, size = (f,c))\n",
        "\n",
        "    M2 = [[],[],[]]\n",
        "\n",
        "    print(\"matriz aleatoria:\\n\", M)\n",
        "    \n",
        "    # Creación de un objeto\n",
        "    objG = GaussJordan()\n",
        "\n",
        "    print(\"Realizando eliminación Gaussiana...\")\n",
        "    objG.eliminicacionGaussiana(f, c, M)\n",
        "\n",
        "    # TODO: Implementar el método de Gauss-Jordan \n",
        "\n",
        "if __name__ == \"__main__\":\n",
        "    main()"
      ],
      "execution_count": null,
      "outputs": []
    },
    {
      "cell_type": "code",
      "source": [
        "# Iterar en orden inverso\n",
        "\n",
        "import numpy as np\n",
        "\n",
        "def main():\n",
        "    f = 3     # Filas\n",
        "    c = f + 1 # Cols\n",
        "    M = np.random.randint(10, size = (f,c))\n",
        "\n",
        "    print(M)\n",
        "    range?\n",
        "    for i in range(len(M)-1, -1, -1):\n",
        "        print(M[i][i])\n",
        "\n",
        "if __name__ == \"__main__\":\n",
        "    main()"
      ],
      "metadata": {
        "id": "dxKOTgQaEX39"
      },
      "execution_count": null,
      "outputs": []
    },
    {
      "cell_type": "markdown",
      "source": [
        "# 2. El método gráfico\n",
        "\n",
        "<p>Encontrar la interección de varias ecuaciones lineales</p>"
      ],
      "metadata": {
        "id": "NSSNy1sypRCi"
      }
    },
    {
      "cell_type": "code",
      "source": [
        "#importar librerías\n",
        "import numpy as np\n",
        "import matplotlib.pyplot as plt\n",
        "from sympy.abc import x, y, z\n",
        "\n",
        "class Graph:\n",
        "\n",
        "    def graph2DPlot(self, start, end, equation):\n",
        "        X = np.arange(start, end)\n",
        "        Y = np.zeros_like(X)\n",
        "        for i in range(len(X)):\n",
        "            Y[i] = equation.subs(x, X[i])\n",
        "        plt.plot(X,Y)\n",
        "     \n",
        "\n",
        "\n",
        "def main():\n",
        "    \n",
        "    # Definición de intervalo de evaluación\n",
        "    a = -8.5\n",
        "    b = -7\n",
        "\n",
        "    # Definir 2 ecuaciones, 1 incognitas\n",
        "    eq1 = 2*x + - 3\n",
        "    eq2 = 3*x + 5\n",
        "\n",
        "    # Objeto para crear gráficos\n",
        "    objG = Graph() \n",
        "\n",
        "    # resolver empleando el método gráfico en  2D\n",
        "    objG.graph2DPlot(a,b, eq1)\n",
        "    objG.graph2DPlot(a,b, eq2)\n",
        "\n",
        "\n",
        "if __name__ == \"__main__\":\n",
        "    main()"
      ],
      "metadata": {
        "id": "UiXJ51FcpQRl"
      },
      "execution_count": null,
      "outputs": []
    },
    {
      "cell_type": "markdown",
      "source": [
        "# 3. Determinantes\n",
        "\n",
        "![image.png](data:image/png;base64,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)"
      ],
      "metadata": {
        "id": "jNpEk9Y11nhF"
      }
    },
    {
      "cell_type": "code",
      "source": [
        "import numpy as np\n",
        "\n",
        "def calcularDet2x2(M):\n",
        "    det = -1\n",
        "    if(len(M) == 2 and len(M[0]) == 2):\n",
        "        det = (M[0][0] * M[1][1]) - (M[0][1]*M[1][0])\n",
        "    else:\n",
        "        print(\"La matriz no corresponde a una matriz de 2x2\")\n",
        "        exit(0)\n",
        "\n",
        "    return det\n",
        "\n",
        "def calcularMatMenor(arr,i,j):\n",
        "    c = arr[:]\n",
        "    c = np.delete(c, (i),axis=0)\n",
        "    return [np.delete(row, (j),axis=0) for row in (c)]\n",
        "\n",
        "\"\"\"def calcularMatMenor(M2, filaAct, colAct):\n",
        "    Mmenor = np.zeros((2,2))\n",
        "    iNew = 0\n",
        "    jNew = 0\n",
        "    for i in range(len(M2)):\n",
        "        for j in range(len(M2[0])):\n",
        "            if i != filaAct and j!= colAct:\n",
        "                if (i > 0 and i < len(M2)-1) and (j > 0 and j < len(M2)-1):\n",
        "                    print(\"IF i: \", i, \" j: \", j)\n",
        "                    Mmenor[i-1][j-1] = M2[i][j]\n",
        "                else:\n",
        "                    print(\"ELSE i: \", i, \" j: \", j)\n",
        "                    Mmenor[i][j] = M2[i][j]\n",
        "    return Mmenor\"\"\"\n",
        "\n",
        "def calcularDet3X3(M2):\n",
        "    det = 0\n",
        "    if(len(M2) == 3 and len(M2[0]) == 3):\n",
        "        for i in range(len(M2)):\n",
        "            a = M2[0][i];\n",
        "            #print(\"Coeficiente: \\n\", a)\n",
        "            #mMenor = calcularMatMenor(M2, 0,i)\n",
        "            mMenor = calcularMatMenor(M2, 0, i)\n",
        "            #print(\"Matriz menor:\\n\", mMenor)\n",
        "            if i % 2 == 0: # Ley de los signos verifica si el número es par o impar\n",
        "                det += a * calcularDet2x2(mMenor)\n",
        "            else: # Indice impar, se utiliza un signo negativo\n",
        "                det -= a* calcularDet2x2(mMenor)\n",
        "    else:\n",
        "        print(\"La matriz no es de 3x3\")\n",
        "        exit(0)\n",
        "\n",
        "    return det\n",
        "def main():\n",
        "\n",
        "    # Generar una matriz de 2x2 y calular su determinante\n",
        "    \"\"\"f = 2\n",
        "    c = 2\n",
        "    M = np.random.randint(0, 10, (f,c))\n",
        "    print(\"Matriz de 2x2\\n\", M)\n",
        "    print(\"El determinante de la matriz \\n\", M, \" \\nes:\", calcularDet2x2(M))\"\"\"\n",
        "\n",
        "    # Generar una matriz de 3x3 y calcular su determinante\n",
        "    M2 = np.random.randint(0, 10,(3,3))\n",
        "    print(\"Matriz 3x3\\n\", M2)\n",
        "\n",
        "    print(\"El determinante de la matriz \\n\", M2, \" es:\", calcularDet3X3(M2))\n",
        "\n",
        "\n",
        "\n",
        "\n",
        "if __name__ == \"__main__\":\n",
        "    main()\n",
        "\n"
      ],
      "metadata": {
        "id": "aND6HJYy1q85"
      },
      "execution_count": null,
      "outputs": []
    },
    {
      "cell_type": "markdown",
      "source": [
        "# 4. Regla de Cramer para resolver sistemas de ecuaciones lineales "
      ],
      "metadata": {
        "id": "2qvfWsh6GG9f"
      }
    }
  ]
}