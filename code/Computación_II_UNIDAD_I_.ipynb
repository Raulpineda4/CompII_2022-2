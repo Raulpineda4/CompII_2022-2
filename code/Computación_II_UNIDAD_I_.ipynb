{
  "nbformat": 4,
  "nbformat_minor": 0,
  "metadata": {
    "colab": {
      "name": "Computación II - UNIDAD I .ipynb",
      "private_outputs": true,
      "provenance": [],
      "collapsed_sections": [],
      "authorship_tag": "ABX9TyPcxp8PpHU6IbxjlHsPO5d9",
      "include_colab_link": true
    },
    "kernelspec": {
      "name": "python3",
      "display_name": "Python 3"
    },
    "language_info": {
      "name": "python"
    }
  },
  "cells": [
    {
      "cell_type": "markdown",
      "metadata": {
        "id": "view-in-github",
        "colab_type": "text"
      },
      "source": [
        "<a href=\"https://colab.research.google.com/github/ulises1229/CompII_2022-2/blob/main/code/Computaci%C3%B3n_II_UNIDAD_I_.ipynb\" target=\"_parent\"><img src=\"https://colab.research.google.com/assets/colab-badge.svg\" alt=\"Open In Colab\"/></a>"
      ]
    },
    {
      "cell_type": "markdown",
      "source": [
        "# Licenciatura en Tecnología - Computación II - Resolución de sistemas de ecuaciones lineales\n",
        "\n",
        "\n",
        "---\n",
        "+ Autor: Ulises  Olivares\n",
        "+ Email: uolivares@unam.mx\n",
        "+ 2 de febrero de 2022\n",
        "---\n",
        "\n",
        "\n",
        "<img src=\"https://github.com/ulises1229/CompII_2022-2/blob/0e96976ec886b76c3501debe8204eac6b9ee5ae1/figs/lictec_small.png?raw=true\" alt=\"drawing\" width=\"300\" style = \"text-align: center\"/>\n"
      ],
      "metadata": {
        "id": "GeiIHXUmY2Y7"
      }
    },
    {
      "cell_type": "markdown",
      "metadata": {
        "id": "roRgGiJy5XmG"
      },
      "source": [
        "## 0. *Numpy - Repaso*\n",
        "\n",
        "Demostrar el uso de arreglos unidimensionales y bi-dimensionales utilizando numpy.\n"
      ]
    },
    {
      "cell_type": "code",
      "metadata": {
        "id": "iV2tLujWH1N1"
      },
      "source": [
        "# importar librería de numpy \n",
        "import numpy as np\n",
        "\n",
        "# Se Crea un arreglo bi-dimensional\n",
        "a = np.array([[1.0,2,3], \n",
        "              [4,5,6]], \n",
        "             dtype = np.float16)\n",
        "# Imprimir matriz\n",
        "print(a)\n",
        "\n",
        "# IMPRIMIR ELEMENTOS\n",
        "print(\"Dimensiones: \" + str(a.ndim))\n",
        "print(\"Forma: \" + str(a.shape))\n",
        "print(\"Tipo de datos: \" + str(a.dtype))"
      ],
      "execution_count": null,
      "outputs": []
    },
    {
      "cell_type": "code",
      "metadata": {
        "id": "kq_pDjfjJWjF"
      },
      "source": [
        "# Creación de arreglos\n",
        "# Arreglo de 1s\n",
        "ones = np.ones((3,5), dtype=np.float32)\n",
        "# Arreglo de 0s\n",
        "zeros = np.zeros((5,5), dtype=np.float32)\n",
        "\n",
        "#Impresión de matrices\n",
        "print(ones)\n",
        "print(zeros)\n",
        "\n",
        "print(\"Matriz 1s tiene: \" + str(len(ones)) + \" filas y \" + str(len(ones[0])) + \" columnas\")\n",
        "\n",
        "# Acceso a la matriz usando índices\n",
        "filas = len(ones)\n",
        "columnas = len(ones[0])\n",
        "\n",
        "print(\"Impresión utilizando índices\")\n",
        "for i in range(filas):\n",
        "  for j in range(columnas):\n",
        "    print(ones[i][j], end= \" \")\n",
        "  print(\" \")\n",
        "\n",
        "print(\"Impresión utilizando elementos\")\n",
        "# Acceso usando elementos\n",
        "for i in ones:\n",
        "  for j in i:\n",
        "    print(j , end =\" \")\n",
        "  print(\" \")"
      ],
      "execution_count": null,
      "outputs": []
    },
    {
      "cell_type": "code",
      "metadata": {
        "id": "Lhd4g_CDLatT"
      },
      "source": [
        "# Generación de un vector a través del uso de rangos\n",
        "np.arange(1, 100)"
      ],
      "execution_count": null,
      "outputs": []
    },
    {
      "cell_type": "code",
      "metadata": {
        "id": "SM-DLDRBPgho"
      },
      "source": [
        "# Concatenando arreglos o matrices\n",
        "A = np.ones((3,3), dtype = np.float32)\n",
        "B = np.zeros((3,3), dtype = np.float32)\n",
        "\n",
        "# concatenar matrices\n",
        "np.concatenate([A,B], axis = 1)"
      ],
      "execution_count": null,
      "outputs": []
    },
    {
      "cell_type": "code",
      "metadata": {
        "id": "S9bqh64vQD5a"
      },
      "source": [
        "# Uso de astype para hacer un cast de tipos de datos\n",
        "A = np.zeros((5,4), dtype = np.float32)\n",
        "print(len(A[0]))\n",
        "\n",
        "for i in range(len(A)):\n",
        "  for j in range(len(A[0])):\n",
        "    A[i][j] = np.pi\n",
        "print(A)\n",
        "\n",
        "print(A.astype(np.int16))"
      ],
      "execution_count": null,
      "outputs": []
    },
    {
      "cell_type": "code",
      "metadata": {
        "id": "-YYZOHcCRkjk"
      },
      "source": [
        "# Uso de np.zeros_like y np.ones_like\n",
        "A = np.ones((4,4))\n",
        "print(A)\n",
        "# zeros_like genera un arreglo de las \n",
        "# mismas dimensiones que el original \n",
        "B = np.zeros_like(A)\n",
        "print(B)"
      ],
      "execution_count": null,
      "outputs": []
    },
    {
      "cell_type": "code",
      "metadata": {
        "id": "wGKMiDBIRfjT"
      },
      "source": [
        "# Generación de arreglos aleatorios\n",
        "A = np.random.random((5, 5))\n",
        "print(A)\n",
        "# Generación de números enteros del 0 al n-1 \n",
        "n = 10\n",
        "B= np.random.randint(10, size = (7,7))\n",
        "print(B)"
      ],
      "execution_count": null,
      "outputs": []
    },
    {
      "cell_type": "code",
      "metadata": {
        "id": "TEbefbC4Q-ER"
      },
      "source": [
        "# Transformaciones de arreglos\n",
        "A = np.array([1,2,3,4,5,6])\n",
        "print(A)\n",
        "\n",
        "# Transformar a 3 filas, 2 columnas\n",
        "A = A.reshape(3, 2)\n",
        "print(A)\n",
        "\n",
        "# Se utiliza -1 para determinar cols\n",
        "A = A.reshape(2, -1)\n",
        "print(A)\n",
        "\n",
        "# Transormar a un arreglo lineal\n",
        "A = A.ravel()\n",
        "print(A)"
      ],
      "execution_count": null,
      "outputs": []
    },
    {
      "cell_type": "code",
      "metadata": {
        "id": "kdP0tMurZrka"
      },
      "source": [
        "# Transpuesta de una matriz\n",
        "A = np.arange(25).reshape(5,5)\n",
        "print(\"Matriz Original: \\n\" + str(A))\n",
        "# Imprimir matriz transpuesta\n",
        "print(\"Matriz Transpuesta: \\n\" + str(A.T))\n",
        "# Imprimir matriz \n",
        "print(\"Matriz Transpuesta: \\n\" + str(A.transpose((1,0))))\n",
        "\n"
      ],
      "execution_count": null,
      "outputs": []
    },
    {
      "cell_type": "code",
      "metadata": {
        "id": "u44c41iHY8qZ"
      },
      "source": [
        "# Operadores Matemáticos\n",
        "A = np.arange(100).reshape(10,10)\n",
        "print(\"Primer Matriz: \\n\" + str(A))\n",
        "\n",
        "B = np.arange(100, 200).reshape(10, 10)\n",
        "print(\"Segunda Matriz: \\n\" + str(B))\n",
        "\n",
        "# Calcular la suma de ambas matrices\n",
        "print(\"Suma: \"  + str(A + B))\n",
        "\n",
        "# Calcular la resta de ambas matrices\n",
        "print(\"resta: \"  + str(B - A))\n",
        "\n",
        "# Calcular la multiplicación de ambas matrices\n",
        "print(\"multiplicación: \"  + str(A * B))"
      ],
      "execution_count": null,
      "outputs": []
    },
    {
      "cell_type": "code",
      "metadata": {
        "id": "6ypxSJKoY3p9"
      },
      "source": [
        "# Operadores lógicos\n",
        "A = np.random.random((5,5))\n",
        "print(\"Matriz Original: \\n\" + str(A))\n",
        "\n",
        "# Operador lógico\n",
        "print(\"Operador lógico a >5 \\n\" + str(A > 0.5))"
      ],
      "execution_count": null,
      "outputs": []
    },
    {
      "cell_type": "code",
      "metadata": {
        "id": "_jgah2aMe1A1"
      },
      "source": [
        "# Operaciones in-situ \n",
        "A = np.random.randint(10, size= (5,5))\n",
        "print(\"Matriz A Original: \\n\" + str(A))\n",
        "\n",
        "B = A = np.random.randint(10, size= (5,5))\n",
        "print(\"Matriz B Original: \\n\" + str(B))\n",
        "\n",
        "# Operación in-situ\n",
        "A += B\n",
        "print(\"Matriz A Modificada: \\n\" + str(A))"
      ],
      "execution_count": null,
      "outputs": []
    },
    {
      "cell_type": "code",
      "metadata": {
        "id": "qnL5B5LMfzz9"
      },
      "source": [
        "# Funciones universales\n",
        "A = np.random.randint(10, 100, size= (5,5))\n",
        "print(\"Matriz A Original: \\n\" + str(A))\n",
        "\n",
        "# Calcular Raiz cuadrada\n",
        "print(\"Raiz Cuadrada: \\n\" + str(np.sqrt(A)))\n",
        "\n",
        "# Calcular raiz a elemento de la matriz\n",
        "print(np.sqrt(A[0][0]))\n"
      ],
      "execution_count": null,
      "outputs": []
    },
    {
      "cell_type": "markdown",
      "metadata": {
        "id": "0qFDMEpz4oKY"
      },
      "source": [
        "#### Inversa de una matriz\n"
      ]
    },
    {
      "cell_type": "code",
      "metadata": {
        "id": "gGbw1o3x4ruc"
      },
      "source": [
        "# Inversa de una matriz\n",
        "import numpy as np\n",
        "\n",
        "# Inicializar una matriz \n",
        "A = np.random.randint(10, size= (5,5))\n",
        "print(\"Matriz A Original: \\n\" + str(A))\n",
        "\n",
        "# Calcular matriz inversa\n",
        "B = np.linalg.inv(A)\n",
        "print(\"Matriz Inversa A^-1: \\n\" + str(B))"
      ],
      "execution_count": null,
      "outputs": []
    },
    {
      "cell_type": "markdown",
      "metadata": {
        "id": "5JO3NyGytIri"
      },
      "source": [
        "***\n",
        "Termina repaso de Numpy \n",
        "***"
      ]
    },
    {
      "cell_type": "markdown",
      "metadata": {
        "id": "E6u2pOuQtQEl"
      },
      "source": [
        "## 1. Eliminación Gaussiana"
      ]
    },
    {
      "cell_type": "code",
      "metadata": {
        "id": "4yw_ZGXqvqza"
      },
      "source": [
        "import numpy as np\n",
        "import sympy\n",
        "\n",
        "class GaussJordan:\n",
        "    \n",
        "    # Constructor\n",
        "    #def init(self, filas, cols, M):\n",
        "        #self.f = filas\n",
        "        #self.c = cols\n",
        "        #self.M = M\n",
        "\n",
        "    \"\"\"\n",
        "        Método para intercambiar dos filas de la matriz M\n",
        "        Entradas: indices de la primer y segunda fila \n",
        "        Salidas: Matriz M modificada\n",
        "    \"\"\"\n",
        "    def intercambiarFilas(self, index1, index2, M):\n",
        "        #print(\"A intercambiar\", index1, \" por \", index2)\n",
        "        #print(\"Antes \\n\", M)\n",
        "        for i in range(len(M[0])): # itera sobre el número de columnas\n",
        "            tmp = M[index2][i]\n",
        "            M[index2][i] = M[index1][i]\n",
        "            M[index1][i] = tmp\n",
        "        #print(\"Después:\\n\", M)\n",
        "        return M\n",
        "\n",
        "    \n",
        "    def multiplicarFila(self, k, fila, colInicial, M):\n",
        "        for i in range (colInicial, len(M[0])):\n",
        "            M[fila][i] = k * M[fila][i]\n",
        "        return M\n",
        "\n",
        "    \"\"\"\n",
        "        Método empleado para realizar la eliminación resta dos filas\n",
        "        Entradas: indices de  filas 1 y 2, columna inicial y Matriz\n",
        "        Salida: Matriz M modficada\n",
        "    \"\"\"\n",
        "    def restarFilas(self, f1, f2, colInicial, M):\n",
        "        for i in range(colInicial, len(M[0])):\n",
        "            M[f1][i] =  M[f2][i] - M[f1][i]\n",
        "        return M \n",
        "\n",
        "\n",
        "    \"\"\"\n",
        "        Método para buscar un elemento pivote, se implementa pivoteo parcial\n",
        "        Entradas: filas, columna actual y matriz\n",
        "        Salidas: Matriz modificada\n",
        "    \"\"\"\n",
        "    def buscarPivote(self, filas, col, M):\n",
        "        indiceFila = -1\n",
        "        maxNum = np.inf *-1\n",
        "        for i in range(col+1, filas):\n",
        "            if(M[i][col] > maxNum and M[i][col] != 0):\n",
        "                indiceFila = i\n",
        "                maxNum = M[i][col]\n",
        "        return indiceFila\n",
        "\n",
        "    #def calcularInversa(self, MAug, f, c):\n",
        "        # self.GaussJordan()\n",
        "\n",
        "    \"\"\"\n",
        "        Método para efectuar la eliminación Gaussiana\n",
        "        Entradas: Número de filas y columnas, Matriz\n",
        "        Salida: Matriz modificada\n",
        "    \"\"\"\n",
        "    def eliminicacionGaussiana(self, f, c, M):\n",
        "        # Definición de variables\n",
        "        indicePiv = -1\n",
        "        \n",
        "        for i in range(f):\n",
        "            pivote = M[i][i]\n",
        "            if pivote == 0:\n",
        "                indicePiv = self.buscarPivote(f, i, M) # Se implementa pivoteo parcial\n",
        "                #TODO: Implementar pivoteo completo\n",
        "                if indicePiv == -1:\n",
        "                    print(\"El sistema no tiene solución\")\n",
        "                    exit(0)\n",
        "                else:\n",
        "                    M = self.intercambiarFilas(indicePiv, i, M)\n",
        "                    pivote = M[i][i]\n",
        "            \n",
        "            for j in range(i+1, f): # Realizar la eliminación de los elementos debajo del pivote\n",
        "                if M[j][i] != 0:\n",
        "                    k = pivote / M[j][i]    # Multiplicador para la eliminación\n",
        "                    M = self.multiplicarFila(k, j, i, M)\n",
        "                    M = self.restarFilas(j, i, i, M)\n",
        "        print(\"Matriz resultante: \\n\", M)\n",
        "\n",
        "\"\"\"\n",
        "    Método para calcular la inversa de una matriz M\n",
        "    Entradas: Filas, columnas y Matriz original\n",
        "    Salida: Matriz inversa\n",
        "\"\"\"\n",
        "def calculateInverseMatrix(f, c, M):\n",
        "    # Definición de matriz identidad\n",
        "    I = np.identity(f)\n",
        "    print(\"Identidad: \\n\", I)\n",
        "\n",
        "    # Generar matriz aumentada\n",
        "    MAum = np.concatenate([M,I], axis=1)\n",
        "    print(\"Matriz aumentada: \\n\", MAum)\n",
        "    \n",
        "\n",
        "def main():\n",
        "\n",
        "    # Definición de número de filas y columnas\n",
        "    f = 3\n",
        "    c = f+1 # +1 se debe a la columna de resultados\n",
        "    \n",
        "    # Inicializar una matriz de \n",
        "    M = np.random.randint(10, size = (f,c))\n",
        "\n",
        "    print(\"matrix aleatoria:\\n\", M)\n",
        "    \n",
        "    # Creación de un objeto\n",
        "    objG = GaussJordan()\n",
        "    print(\"Realizando eliminación Gaussiana...\")\n",
        "    objG.eliminicacionGaussiana(f, c, M) \n",
        "\n",
        "\n",
        "\n",
        "\n",
        "\n",
        "if __name__ == \"__main__\":\n",
        "    main()"
      ],
      "execution_count": null,
      "outputs": []
    },
    {
      "cell_type": "markdown",
      "source": [
        "# 1. Resolución de sisteas de ecuaciones algebraicas lineales\n",
        "\n",
        "### 1.2 El método de la eliminación Gaussiana"
      ],
      "metadata": {
        "id": "l1asAqWvm4Yy"
      }
    },
    {
      "cell_type": "code",
      "execution_count": null,
      "metadata": {
        "id": "yWbtoJaYXZvR"
      },
      "outputs": [],
      "source": [
        ""
      ]
    },
    {
      "cell_type": "code",
      "source": [
        ""
      ],
      "metadata": {
        "id": "WLUn788inBh7"
      },
      "execution_count": null,
      "outputs": []
    }
  ]
}